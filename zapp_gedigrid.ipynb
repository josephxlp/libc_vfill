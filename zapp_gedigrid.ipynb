{
 "cells": [
  {
   "cell_type": "code",
   "execution_count": 4,
   "metadata": {},
   "outputs": [],
   "source": [
    "import os \n",
    "import time \n",
    "import numpy as np \n",
    "import math \n",
    "import rasterio \n",
    "from glob import glob\n",
    "from u_mlinterp import mlinterps,mlinterpe\n",
    "from u_riointerp import riointerp\n",
    "from upaths import OUT_TILES_DPATH\n",
    "from upaths import OT_DEMs_PATTERN,GEDI_L3_TPATH,gedi_dsm_global_fn,gedi_dtm_global_fn\n",
    "from rutils import get_raster_info, gdal_regrid"
   ]
  },
  {
   "cell_type": "code",
   "execution_count": 5,
   "metadata": {},
   "outputs": [],
   "source": [
    "def demvfill_unspervised(dem_ipath,dem_opath,method='riointerp',si=0):\n",
    "    ti = time.perf_counter()\n",
    "    print(os.path.isfile(dem_ipath))\n",
    "    if method == 'mlinterps':\n",
    "        print(f'using {method}')\n",
    "        dem_opath = dem_opath.replace('.tif', f'_{method}.tif')\n",
    "        if not os.path.isfile(dem_opath):\n",
    "            mlinterps(dem_ipath, dem_opath, model_type='catboost')\n",
    "        else:\n",
    "            print(f'file aready created\\nsaved at {dem_opath}')\n",
    "\n",
    "    elif method == 'mlinterpe':\n",
    "        print(f'using {method}')\n",
    "        dem_opath = dem_opath.replace('.tif', f'_{method}.tif')\n",
    "        if not os.path.isfile(dem_opath):\n",
    "            mlinterpe(dem_ipath, dem_opath, model_type='catboost')\n",
    "        else:\n",
    "            print(f'file aready created\\nsaved at {dem_opath}')\n",
    "\n",
    "    elif method == 'riointerp':\n",
    "        print(f'using {method}')\n",
    "        dem_opath = dem_opath.replace('.tif', f'_{method}.tif')\n",
    "        if not os.path.isfile(dem_opath):\n",
    "            riointerp(dem_ipath, dem_opath, smoothing_iterations=si)\n",
    "        else:\n",
    "            print(f'file aready created\\nsaved at {dem_opath}')\n",
    "\n",
    "    else:\n",
    "        print('method not available: try mlinterps,mlinterpe,riointerp')\n",
    "    tf = time.perf_counter() -ti \n",
    "    print(f'run.time ={tf/60} min(s)')\n",
    "    print(f'method @{method}')"
   ]
  },
  {
   "cell_type": "code",
   "execution_count": 6,
   "metadata": {},
   "outputs": [
    {
     "name": "stdout",
     "output_type": "stream",
     "text": [
      "17\n"
     ]
    }
   ],
   "source": [
    "name = 'GEDI_L3'\n",
    "files = glob(OT_DEMs_PATTERN)\n",
    "files = [i for i in files if name in i]\n",
    "files = list(set(files))\n",
    "print(len(files))\n",
    "tile_dpath = GEDI_L3_TPATH"
   ]
  },
  {
   "cell_type": "code",
   "execution_count": null,
   "metadata": {},
   "outputs": [],
   "source": [
    "for fi in files:\n",
    "    tilename = fi.split('/')[-3]\n",
    "    dout_path = os.path.join(tile_dpath,tilename)\n",
    "    os.makedirs(dout_path, exist_ok=True)\n",
    "    chm_tile = os.path.join(dout_path, f'{tilename}_{os.path.basename(gedi_dsm_global_fn)}')\n",
    "    dtm_tile = os.path.join(dout_path, f'{tilename}_{os.path.basename(gedi_dtm_global_fn)}')\n",
    "    proj, xres, yres, xmin, xmax, ymin, ymax, w, h = get_raster_info(fi)\n",
    "    #gdal_regrid(fi, chm_tile, xmin, ymin, xmax, ymax, xres, yres,mode=\"num\", t_epsg='EPSG:4979', overwrite=False)\n",
    "    #gdal_regrid(fi, dtm_tile, xmin, ymin, xmax, ymax, xres, yres,mode=\"num\", t_epsg='EPSG:4979', overwrite=False)\n",
    "\n",
    "    dtm_tile_fil = dtm_tile#.replace('.tif', '_riofill.tif')\n",
    "    chm_tile_fil = chm_tile#.replace('.tif', '_riofill.tif')\n",
    "    # try:\n",
    "    #     os.remove(dtm_tile_fil)\n",
    "    #     os.remove(chm_tile_fil)\n",
    "    # except:\n",
    "    #     continue\n",
    "    for method in ['riointerp', 'mlinterps']:\n",
    "        demvfill_unspervised(chm_tile,chm_tile_fil,method=method,si=0)\n",
    "        demvfill_unspervised(dtm_tile,dtm_tile_fil,method=method,si=0)\n"
   ]
  },
  {
   "cell_type": "code",
   "execution_count": null,
   "metadata": {},
   "outputs": [],
   "source": []
  }
 ],
 "metadata": {
  "kernelspec": {
   "display_name": "agluon",
   "language": "python",
   "name": "python3"
  },
  "language_info": {
   "codemirror_mode": {
    "name": "ipython",
    "version": 3
   },
   "file_extension": ".py",
   "mimetype": "text/x-python",
   "name": "python",
   "nbconvert_exporter": "python",
   "pygments_lexer": "ipython3",
   "version": "3.11.11"
  }
 },
 "nbformat": 4,
 "nbformat_minor": 2
}
